{
 "cells": [
  {
   "cell_type": "markdown",
   "metadata": {
    "id": "eqsu7YiRvnNx"
   },
   "source": [
    "#**npy Generator**\n"
   ]
  },
  {
   "cell_type": "code",
   "execution_count": null,
   "metadata": {
    "colab": {
     "base_uri": "https://localhost:8080/",
     "height": 463
    },
    "executionInfo": {
     "elapsed": 17721,
     "status": "ok",
     "timestamp": 1755709818649,
     "user": {
      "displayName": "Gourav",
      "userId": "13482425479639834252"
     },
     "user_tz": -330
    },
    "id": "Y8onKA4NMova",
    "outputId": "505fd455-a92a-4a03-ed2d-ea5727ad57c1"
   },
   "outputs": [],
   "source": [
    "!pip install patchify"
   ]
  },
  {
   "cell_type": "code",
   "execution_count": 1,
   "metadata": {
    "colab": {
     "base_uri": "https://localhost:8080/"
    },
    "executionInfo": {
     "elapsed": 19780,
     "status": "ok",
     "timestamp": 1755710622228,
     "user": {
      "displayName": "Gourav",
      "userId": "13482425479639834252"
     },
     "user_tz": -330
    },
    "id": "u2XJv21OG67u",
    "outputId": "c47f1b57-2011-40a3-f298-2b71fce2bcb0"
   },
   "outputs": [
    {
     "name": "stdout",
     "output_type": "stream",
     "text": [
      "Mounted at /content/drive\n"
     ]
    }
   ],
   "source": [
    "from google.colab import drive\n",
    "drive.mount('/content/drive')"
   ]
  },
  {
   "cell_type": "code",
   "execution_count": 2,
   "metadata": {
    "executionInfo": {
     "elapsed": 6198,
     "status": "ok",
     "timestamp": 1755709862714,
     "user": {
      "displayName": "Gourav",
      "userId": "13482425479639834252"
     },
     "user_tz": -330
    },
    "id": "g4YdHiIqHDHj"
   },
   "outputs": [],
   "source": [
    "import tensorflow as tf\n",
    "from tensorflow.keras.preprocessing.image import load_img, img_to_array\n",
    "from patchify import patchify\n",
    "import numpy as np\n",
    "import os\n",
    "import datetime\n",
    "import sys"
   ]
  },
  {
   "cell_type": "code",
   "execution_count": null,
   "metadata": {
    "id": "pgTJOoUbiD4d"
   },
   "outputs": [],
   "source": [
    "\n",
    "PATCH_SIZE = (256,256)\n",
    "NUM_CHANNELS = 3\n",
    "\n",
    "image_dir=\"/content/drive/MyDrive/ITMO/01_BRIGHT_FIELD/augmented_img\"\n",
    "mask_dir=\"/content/drive/MyDrive/ITMO/01_BRIGHT_FIELD/augmented_msk\"\n",
    "patches_dir=\"/content/drive/MyDrive/ITMO/01_BRIGHT_FIELD/857x21\""
   ]
  },
  {
   "cell_type": "code",
   "execution_count": null,
   "metadata": {
    "colab": {
     "base_uri": "https://localhost:8080/",
     "height": 49,
     "referenced_widgets": [
      "e83258e22b9b456f81a4221899275f48",
      "e2e13442d566445da500b2f75f1f4871",
      "ff3e7cf679fe4e71abf54af2cf19b2d3",
      "1fbcdc2a7d9f4ac1bcd08686f0da7f0b",
      "a7786922dfa14b3d80735b0d70917d15",
      "8e6ff67be6684c5abebc76a24c787339",
      "59ae2eca8f794cfeb133b643a0a483cf",
      "92c873802979461f87786699385e8012",
      "5cc6a36fce3e4972b0bb493af2e7ee99",
      "ee946aa5b91c425ea87c085fe99e2b8b",
      "6915b016f95441fe847c9625d59be592"
     ]
    },
    "executionInfo": {
     "elapsed": 9142,
     "status": "ok",
     "timestamp": 1755698657015,
     "user": {
      "displayName": "Gourav",
      "userId": "13482425479639834252"
     },
     "user_tz": -330
    },
    "id": "-3b4IAlvHN8x",
    "outputId": "787ab61a-dd25-4fc0-9fc7-26080455862a"
   },
   "outputs": [],
   "source": [
    "from tqdm.notebook import tqdm  # Add this import if not already present\n",
    "\n",
    "\n",
    "# Function to create and save patches with tqdm\n",
    "def create_and_save_patches(image_dir, mask_dir, patch_size=PATCH_SIZE, img_size=PATCH_SIZE):\n",
    "    if not os.path.exists(patches_dir):\n",
    "        os.makedirs(os.path.join(patches_dir, 'images'))\n",
    "        os.makedirs(os.path.join(patches_dir, 'masks'))\n",
    "\n",
    "    image_files = sorted([os.path.join(image_dir, fname) for fname in os.listdir(image_dir)])\n",
    "    mask_files = sorted([os.path.join(mask_dir, fname) for fname in os.listdir(mask_dir)])\n",
    "\n",
    "    for idx, (img_file, mask_file) in tqdm(enumerate(zip(image_files, mask_files)), total=len(image_files), desc=\"Saving patches\"):\n",
    "        image = load_img(img_file, target_size=(img_size[0], img_size[1]), color_mode=\"rgb\")\n",
    "        image = img_to_array(image) / 255.0\n",
    "\n",
    "        mask = load_img(mask_file, target_size=(img_size[0], img_size[1]), color_mode=\"grayscale\")\n",
    "        mask = img_to_array(mask) / 255.0\n",
    "        mask = (mask > 0.5).astype(np.float32)\n",
    "\n",
    "        img_patches = patchify(image, (patch_size[0], patch_size[1], NUM_CHANNELS), step=(patch_size[0], patch_size[1], NUM_CHANNELS))\n",
    "        mask_patches = patchify(mask, (patch_size[0], patch_size[1], 1), step=(patch_size[0], patch_size[1], 1))\n",
    "\n",
    "        for i in range(img_patches.shape[0]):\n",
    "            for j in range(img_patches.shape[1]):\n",
    "                img_patch = img_patches[i, j, 0]\n",
    "                mask_patch = mask_patches[i, j, 0]\n",
    "\n",
    "                np.save(os.path.join(patches_dir, 'images', f\"img_{idx}_{i}_{j}.npy\"), img_patch)\n",
    "                np.save(os.path.join(patches_dir, 'masks', f\"mask_{idx}_{i}_{j}.npy\"), mask_patch)\n",
    "\n",
    "create_and_save_patches(image_dir, mask_dir)"
   ]
  },
  {
   "cell_type": "code",
   "execution_count": null,
   "metadata": {
    "colab": {
     "base_uri": "https://localhost:8080/"
    },
    "executionInfo": {
     "elapsed": 123,
     "status": "ok",
     "timestamp": 1755698303396,
     "user": {
      "displayName": "Gourav",
      "userId": "13482425479639834252"
     },
     "user_tz": -330
    },
    "id": "-FEAydMGNJJq",
    "outputId": "36e94275-d5e7-4b55-d2a5-a10be70f167a"
   },
   "outputs": [
    {
     "name": "stdout",
     "output_type": "stream",
     "text": [
      "Number of files: 98\n",
      "Number of files: 98\n"
     ]
    }
   ],
   "source": [
    "import os\n",
    "\n",
    "def count_files_in_folder(folder_path):\n",
    "    \"\"\"Count all files in a directory (excluding subdirectories)\"\"\"\n",
    "    if not os.path.exists(folder_path):\n",
    "        return f\"Directory '{folder_path}' does not exist\"\n",
    "\n",
    "    files = [f for f in os.listdir(folder_path) if os.path.isfile(os.path.join(folder_path, f))]\n",
    "    return len(files)\n",
    "\n",
    "# Example usage\n",
    "\n",
    "path_lst=[\"/content/drive/MyDrive/ITMO/01_BRIGHT_FIELD/857x21/images\", \"/content/drive/MyDrive/ITMO/01_BRIGHT_FIELD/857x21/masks\"\n",
    "          ]\n",
    "\n",
    "for item in path_lst:\n",
    "  folder_path = item  # Change this to your folder path\n",
    "  print(f\"Number of files: {count_files_in_folder(folder_path)}\")"
   ]
  }
 ],
 "metadata": {
  "colab": {
   "authorship_tag": "ABX9TyNQ/2tFwhs7fNM5WVsbK3Gq",
   "provenance": []
  },
  "kernelspec": {
   "display_name": "Python 3",
   "name": "python3"
  },
  "language_info": {
   "name": "python"
  },
  "widgets": {
   "application/vnd.jupyter.widget-state+json": {
    "1fbcdc2a7d9f4ac1bcd08686f0da7f0b": {
     "model_module": "@jupyter-widgets/controls",
     "model_module_version": "1.5.0",
     "model_name": "HTMLModel",
     "state": {
      "_dom_classes": [],
      "_model_module": "@jupyter-widgets/controls",
      "_model_module_version": "1.5.0",
      "_model_name": "HTMLModel",
      "_view_count": null,
      "_view_module": "@jupyter-widgets/controls",
      "_view_module_version": "1.5.0",
      "_view_name": "HTMLView",
      "description": "",
      "description_tooltip": null,
      "layout": "IPY_MODEL_ee946aa5b91c425ea87c085fe99e2b8b",
      "placeholder": "​",
      "style": "IPY_MODEL_6915b016f95441fe847c9625d59be592",
      "value": " 98/98 [00:09&lt;00:00, 10.95it/s]"
     }
    },
    "59ae2eca8f794cfeb133b643a0a483cf": {
     "model_module": "@jupyter-widgets/controls",
     "model_module_version": "1.5.0",
     "model_name": "DescriptionStyleModel",
     "state": {
      "_model_module": "@jupyter-widgets/controls",
      "_model_module_version": "1.5.0",
      "_model_name": "DescriptionStyleModel",
      "_view_count": null,
      "_view_module": "@jupyter-widgets/base",
      "_view_module_version": "1.2.0",
      "_view_name": "StyleView",
      "description_width": ""
     }
    },
    "5cc6a36fce3e4972b0bb493af2e7ee99": {
     "model_module": "@jupyter-widgets/controls",
     "model_module_version": "1.5.0",
     "model_name": "ProgressStyleModel",
     "state": {
      "_model_module": "@jupyter-widgets/controls",
      "_model_module_version": "1.5.0",
      "_model_name": "ProgressStyleModel",
      "_view_count": null,
      "_view_module": "@jupyter-widgets/base",
      "_view_module_version": "1.2.0",
      "_view_name": "StyleView",
      "bar_color": null,
      "description_width": ""
     }
    },
    "6915b016f95441fe847c9625d59be592": {
     "model_module": "@jupyter-widgets/controls",
     "model_module_version": "1.5.0",
     "model_name": "DescriptionStyleModel",
     "state": {
      "_model_module": "@jupyter-widgets/controls",
      "_model_module_version": "1.5.0",
      "_model_name": "DescriptionStyleModel",
      "_view_count": null,
      "_view_module": "@jupyter-widgets/base",
      "_view_module_version": "1.2.0",
      "_view_name": "StyleView",
      "description_width": ""
     }
    },
    "8e6ff67be6684c5abebc76a24c787339": {
     "model_module": "@jupyter-widgets/base",
     "model_module_version": "1.2.0",
     "model_name": "LayoutModel",
     "state": {
      "_model_module": "@jupyter-widgets/base",
      "_model_module_version": "1.2.0",
      "_model_name": "LayoutModel",
      "_view_count": null,
      "_view_module": "@jupyter-widgets/base",
      "_view_module_version": "1.2.0",
      "_view_name": "LayoutView",
      "align_content": null,
      "align_items": null,
      "align_self": null,
      "border": null,
      "bottom": null,
      "display": null,
      "flex": null,
      "flex_flow": null,
      "grid_area": null,
      "grid_auto_columns": null,
      "grid_auto_flow": null,
      "grid_auto_rows": null,
      "grid_column": null,
      "grid_gap": null,
      "grid_row": null,
      "grid_template_areas": null,
      "grid_template_columns": null,
      "grid_template_rows": null,
      "height": null,
      "justify_content": null,
      "justify_items": null,
      "left": null,
      "margin": null,
      "max_height": null,
      "max_width": null,
      "min_height": null,
      "min_width": null,
      "object_fit": null,
      "object_position": null,
      "order": null,
      "overflow": null,
      "overflow_x": null,
      "overflow_y": null,
      "padding": null,
      "right": null,
      "top": null,
      "visibility": null,
      "width": null
     }
    },
    "92c873802979461f87786699385e8012": {
     "model_module": "@jupyter-widgets/base",
     "model_module_version": "1.2.0",
     "model_name": "LayoutModel",
     "state": {
      "_model_module": "@jupyter-widgets/base",
      "_model_module_version": "1.2.0",
      "_model_name": "LayoutModel",
      "_view_count": null,
      "_view_module": "@jupyter-widgets/base",
      "_view_module_version": "1.2.0",
      "_view_name": "LayoutView",
      "align_content": null,
      "align_items": null,
      "align_self": null,
      "border": null,
      "bottom": null,
      "display": null,
      "flex": null,
      "flex_flow": null,
      "grid_area": null,
      "grid_auto_columns": null,
      "grid_auto_flow": null,
      "grid_auto_rows": null,
      "grid_column": null,
      "grid_gap": null,
      "grid_row": null,
      "grid_template_areas": null,
      "grid_template_columns": null,
      "grid_template_rows": null,
      "height": null,
      "justify_content": null,
      "justify_items": null,
      "left": null,
      "margin": null,
      "max_height": null,
      "max_width": null,
      "min_height": null,
      "min_width": null,
      "object_fit": null,
      "object_position": null,
      "order": null,
      "overflow": null,
      "overflow_x": null,
      "overflow_y": null,
      "padding": null,
      "right": null,
      "top": null,
      "visibility": null,
      "width": null
     }
    },
    "a7786922dfa14b3d80735b0d70917d15": {
     "model_module": "@jupyter-widgets/base",
     "model_module_version": "1.2.0",
     "model_name": "LayoutModel",
     "state": {
      "_model_module": "@jupyter-widgets/base",
      "_model_module_version": "1.2.0",
      "_model_name": "LayoutModel",
      "_view_count": null,
      "_view_module": "@jupyter-widgets/base",
      "_view_module_version": "1.2.0",
      "_view_name": "LayoutView",
      "align_content": null,
      "align_items": null,
      "align_self": null,
      "border": null,
      "bottom": null,
      "display": null,
      "flex": null,
      "flex_flow": null,
      "grid_area": null,
      "grid_auto_columns": null,
      "grid_auto_flow": null,
      "grid_auto_rows": null,
      "grid_column": null,
      "grid_gap": null,
      "grid_row": null,
      "grid_template_areas": null,
      "grid_template_columns": null,
      "grid_template_rows": null,
      "height": null,
      "justify_content": null,
      "justify_items": null,
      "left": null,
      "margin": null,
      "max_height": null,
      "max_width": null,
      "min_height": null,
      "min_width": null,
      "object_fit": null,
      "object_position": null,
      "order": null,
      "overflow": null,
      "overflow_x": null,
      "overflow_y": null,
      "padding": null,
      "right": null,
      "top": null,
      "visibility": null,
      "width": null
     }
    },
    "e2e13442d566445da500b2f75f1f4871": {
     "model_module": "@jupyter-widgets/controls",
     "model_module_version": "1.5.0",
     "model_name": "HTMLModel",
     "state": {
      "_dom_classes": [],
      "_model_module": "@jupyter-widgets/controls",
      "_model_module_version": "1.5.0",
      "_model_name": "HTMLModel",
      "_view_count": null,
      "_view_module": "@jupyter-widgets/controls",
      "_view_module_version": "1.5.0",
      "_view_name": "HTMLView",
      "description": "",
      "description_tooltip": null,
      "layout": "IPY_MODEL_8e6ff67be6684c5abebc76a24c787339",
      "placeholder": "​",
      "style": "IPY_MODEL_59ae2eca8f794cfeb133b643a0a483cf",
      "value": "Saving patches: 100%"
     }
    },
    "e83258e22b9b456f81a4221899275f48": {
     "model_module": "@jupyter-widgets/controls",
     "model_module_version": "1.5.0",
     "model_name": "HBoxModel",
     "state": {
      "_dom_classes": [],
      "_model_module": "@jupyter-widgets/controls",
      "_model_module_version": "1.5.0",
      "_model_name": "HBoxModel",
      "_view_count": null,
      "_view_module": "@jupyter-widgets/controls",
      "_view_module_version": "1.5.0",
      "_view_name": "HBoxView",
      "box_style": "",
      "children": [
       "IPY_MODEL_e2e13442d566445da500b2f75f1f4871",
       "IPY_MODEL_ff3e7cf679fe4e71abf54af2cf19b2d3",
       "IPY_MODEL_1fbcdc2a7d9f4ac1bcd08686f0da7f0b"
      ],
      "layout": "IPY_MODEL_a7786922dfa14b3d80735b0d70917d15"
     }
    },
    "ee946aa5b91c425ea87c085fe99e2b8b": {
     "model_module": "@jupyter-widgets/base",
     "model_module_version": "1.2.0",
     "model_name": "LayoutModel",
     "state": {
      "_model_module": "@jupyter-widgets/base",
      "_model_module_version": "1.2.0",
      "_model_name": "LayoutModel",
      "_view_count": null,
      "_view_module": "@jupyter-widgets/base",
      "_view_module_version": "1.2.0",
      "_view_name": "LayoutView",
      "align_content": null,
      "align_items": null,
      "align_self": null,
      "border": null,
      "bottom": null,
      "display": null,
      "flex": null,
      "flex_flow": null,
      "grid_area": null,
      "grid_auto_columns": null,
      "grid_auto_flow": null,
      "grid_auto_rows": null,
      "grid_column": null,
      "grid_gap": null,
      "grid_row": null,
      "grid_template_areas": null,
      "grid_template_columns": null,
      "grid_template_rows": null,
      "height": null,
      "justify_content": null,
      "justify_items": null,
      "left": null,
      "margin": null,
      "max_height": null,
      "max_width": null,
      "min_height": null,
      "min_width": null,
      "object_fit": null,
      "object_position": null,
      "order": null,
      "overflow": null,
      "overflow_x": null,
      "overflow_y": null,
      "padding": null,
      "right": null,
      "top": null,
      "visibility": null,
      "width": null
     }
    },
    "ff3e7cf679fe4e71abf54af2cf19b2d3": {
     "model_module": "@jupyter-widgets/controls",
     "model_module_version": "1.5.0",
     "model_name": "FloatProgressModel",
     "state": {
      "_dom_classes": [],
      "_model_module": "@jupyter-widgets/controls",
      "_model_module_version": "1.5.0",
      "_model_name": "FloatProgressModel",
      "_view_count": null,
      "_view_module": "@jupyter-widgets/controls",
      "_view_module_version": "1.5.0",
      "_view_name": "ProgressView",
      "bar_style": "success",
      "description": "",
      "description_tooltip": null,
      "layout": "IPY_MODEL_92c873802979461f87786699385e8012",
      "max": 98,
      "min": 0,
      "orientation": "horizontal",
      "style": "IPY_MODEL_5cc6a36fce3e4972b0bb493af2e7ee99",
      "value": 98
     }
    }
   }
  }
 },
 "nbformat": 4,
 "nbformat_minor": 0
}
